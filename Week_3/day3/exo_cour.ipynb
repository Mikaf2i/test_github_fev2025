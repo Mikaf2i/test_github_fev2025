{
 "cells": [
  {
   "cell_type": "code",
   "execution_count": 1,
   "metadata": {},
   "outputs": [
    {
     "name": "stdout",
     "output_type": "stream",
     "text": [
      "Requirement already satisfied: scipy in c:\\users\\micap\\appdata\\local\\programs\\python\\python313\\lib\\site-packages (1.15.2)\n",
      "Requirement already satisfied: numpy<2.5,>=1.23.5 in c:\\users\\micap\\appdata\\local\\programs\\python\\python313\\lib\\site-packages (from scipy) (2.2.3)\n",
      "Note: you may need to restart the kernel to use updated packages.\n"
     ]
    }
   ],
   "source": [
    "pip install scipy"
   ]
  },
  {
   "cell_type": "code",
   "execution_count": 2,
   "metadata": {},
   "outputs": [],
   "source": [
    "import numpy as np"
   ]
  },
  {
   "cell_type": "code",
   "execution_count": 3,
   "metadata": {},
   "outputs": [],
   "source": [
    "import numpy as np\n",
    "from scipy import integrate"
   ]
  },
  {
   "cell_type": "code",
   "execution_count": null,
   "metadata": {},
   "outputs": [
    {
     "data": {
      "text/plain": [
       "array([0.72502514, 0.99035474, 0.98731076, ..., 0.06725842, 0.09804338,\n",
       "       0.56861257], shape=(1000000,))"
      ]
     },
     "execution_count": 9,
     "metadata": {},
     "output_type": "execute_result"
    }
   ],
   "source": [
    "array1= np.random.rand(10**6)\n",
    "\n",
    "array1\n"
   ]
  },
  {
   "cell_type": "code",
   "execution_count": 13,
   "metadata": {},
   "outputs": [],
   "source": [
    "arrayMean = np.mean(array1)"
   ]
  },
  {
   "cell_type": "code",
   "execution_count": 14,
   "metadata": {},
   "outputs": [
    {
     "data": {
      "text/plain": [
       "np.float64(0.4999885099556024)"
      ]
     },
     "execution_count": 14,
     "metadata": {},
     "output_type": "execute_result"
    }
   ],
   "source": [
    "arrayMean"
   ]
  },
  {
   "cell_type": "code",
   "execution_count": null,
   "metadata": {},
   "outputs": [],
   "source": [
    "import scipy.stats as stats"
   ]
  },
  {
   "cell_type": "code",
   "execution_count": 16,
   "metadata": {},
   "outputs": [
    {
     "name": "stdout",
     "output_type": "stream",
     "text": [
      "        Date  DVLPRS_Price\n",
      "0 2023-01-01    117.640523\n",
      "1 2023-01-02    104.001572\n",
      "2 2023-01-03    109.787380\n",
      "3 2023-01-04    122.408932\n",
      "4 2023-01-05    118.675580\n"
     ]
    }
   ],
   "source": [
    "import pandas as pd\n",
    "import numpy as np\n",
    "\n",
    "# Simulating stock prices for a non-existent stock (DVLPRS)\n",
    "np.random.seed(0)  # For reproducibility\n",
    "\n",
    "# Generating 100 days of stock prices\n",
    "dates = pd.date_range(start='2023-01-01', periods=100)\n",
    "prices = np.random.normal(loc=100, scale=10, size=len(dates))  # Assume a mean price of 100 with a standard deviation of 10\n",
    "\n",
    "# Creating a DataFrame\n",
    "stock_data = pd.DataFrame({\n",
    "    'Date': dates,\n",
    "    'DVLPRS_Price': prices\n",
    "})\n",
    "\n",
    "# Displaying the first few rows of the simulated data\n",
    "print(stock_data.head())"
   ]
  },
  {
   "cell_type": "code",
   "execution_count": 21,
   "metadata": {},
   "outputs": [
    {
     "data": {
      "text/plain": [
       "array([117.64052346, 104.00157208, 109.78737984, 122.40893199,\n",
       "       118.6755799 ,  90.2272212 , 109.50088418,  98.48642792,\n",
       "        98.96781148, 104.10598502, 101.44043571, 114.54273507,\n",
       "       107.61037725, 101.21675016, 104.43863233, 103.33674327,\n",
       "       114.94079073,  97.94841736, 103.13067702,  91.45904261,\n",
       "        74.47010184, 106.53618595, 108.64436199,  92.5783498 ,\n",
       "       122.69754624,  85.45634325, 100.45758517,  98.1281615 ,\n",
       "       115.32779214, 114.6935877 , 101.54947426, 103.7816252 ,\n",
       "        91.12214252,  80.19203532,  96.52087851, 101.56348969,\n",
       "       112.30290681, 112.02379849,  96.12673183,  96.97697249,\n",
       "        89.51447035,  85.79982063,  82.93729809, 119.50775395,\n",
       "        94.90347818,  95.61925698,  87.4720464 , 107.77490356,\n",
       "        83.86102152,  97.8725972 ,  91.04533439, 103.86902498,\n",
       "        94.89194862,  88.19367816,  99.71817772, 104.28331871,\n",
       "       100.66517222, 103.02471898,  93.65677906,  96.37258834,\n",
       "        93.27539552,  96.40446838,  91.86853718,  82.73717398,\n",
       "       101.77426142,  95.98219064,  83.69801653, 104.62782256,\n",
       "        90.92701636, 100.51945396, 107.29090562, 101.28982911,\n",
       "       111.39400685,  87.6517418 , 104.02341641,  93.15189909,\n",
       "        91.29202851,  94.21150335,  96.88447468, 100.56165342,\n",
       "        88.34850159, 109.00826487, 104.6566244 ,  84.63756314,\n",
       "       114.88252194, 118.95889176, 111.78779571,  98.20075164,\n",
       "        89.29247378, 110.54451727,  95.96823053, 112.2244507 ,\n",
       "       102.08274978, 109.76639036, 103.56366397, 107.06573168,\n",
       "       100.10500021, 117.85870494, 101.26912093, 104.01989363])"
      ]
     },
     "execution_count": 21,
     "metadata": {},
     "output_type": "execute_result"
    }
   ],
   "source": [
    "array = stock_data['DVLPRS_Price'].to_numpy()\n",
    "array"
   ]
  },
  {
   "cell_type": "code",
   "execution_count": 19,
   "metadata": {},
   "outputs": [
    {
     "data": {
      "text/plain": [
       "0     117.640523\n",
       "1     104.001572\n",
       "2     109.787380\n",
       "3     122.408932\n",
       "4     118.675580\n",
       "         ...    \n",
       "95    107.065732\n",
       "96    100.105000\n",
       "97    117.858705\n",
       "98    101.269121\n",
       "99    104.019894\n",
       "Name: DVLPRS_Price, Length: 100, dtype: float64"
      ]
     },
     "execution_count": 19,
     "metadata": {},
     "output_type": "execute_result"
    }
   ],
   "source": [
    "stock_data['DVLPRS_Price'] "
   ]
  }
 ],
 "metadata": {
  "kernelspec": {
   "display_name": "Python 3",
   "language": "python",
   "name": "python3"
  },
  "language_info": {
   "codemirror_mode": {
    "name": "ipython",
    "version": 3
   },
   "file_extension": ".py",
   "mimetype": "text/x-python",
   "name": "python",
   "nbconvert_exporter": "python",
   "pygments_lexer": "ipython3",
   "version": "3.13.2"
  }
 },
 "nbformat": 4,
 "nbformat_minor": 2
}
