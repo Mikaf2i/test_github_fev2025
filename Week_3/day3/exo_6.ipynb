{
 "cells": [
  {
   "cell_type": "code",
   "execution_count": 8,
   "metadata": {},
   "outputs": [],
   "source": [
    "import numpy as np\n",
    "import matplotlib.pyplot as plt\n",
    "from scipy.stats import norm\n",
    "from scipy import stats\n",
    "from scipy.stats import pearsonr\n"
   ]
  },
  {
   "cell_type": "code",
   "execution_count": 10,
   "metadata": {},
   "outputs": [
    {
     "name": "stdout",
     "output_type": "stream",
     "text": [
      "F-value: 28.52631578947368\n",
      "P-value: 2.754267209804844e-05\n"
     ]
    }
   ],
   "source": [
    "fertilizer_1 = [5, 6, 7, 6, 5]\n",
    "fertilizer_2 = [7, 8, 7, 9, 8]\n",
    "fertilizer_3 = [4, 5, 4, 3, 4]\n",
    "\n",
    "f_value, p_value = stats.f_oneway(fertilizer_1, fertilizer_2, fertilizer_3)\n",
    "print(\"F-value:\", f_value)\n",
    "print(\"P-value:\", p_value)"
   ]
  },
  {
   "cell_type": "markdown",
   "metadata": {},
   "source": [
    "Q2  c'est signifiactif vu le resultat tres eloigné"
   ]
  },
  {
   "cell_type": "markdown",
   "metadata": {},
   "source": [
    "q3 cela signifie qu’il n’y a pas de preuve suffisante pour conclure que les engrais ont des effets différents sur la croissance des plantes"
   ]
  }
 ],
 "metadata": {
  "kernelspec": {
   "display_name": "Python 3",
   "language": "python",
   "name": "python3"
  },
  "language_info": {
   "codemirror_mode": {
    "name": "ipython",
    "version": 3
   },
   "file_extension": ".py",
   "mimetype": "text/x-python",
   "name": "python",
   "nbconvert_exporter": "python",
   "pygments_lexer": "ipython3",
   "version": "3.13.2"
  }
 },
 "nbformat": 4,
 "nbformat_minor": 2
}
