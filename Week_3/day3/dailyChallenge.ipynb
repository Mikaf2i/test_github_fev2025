{
 "cells": [
  {
   "cell_type": "code",
   "execution_count": 4,
   "metadata": {},
   "outputs": [],
   "source": [
    "import pandas as pd\n",
    "import numpy as np\n",
    "import matplotlib.pyplot as plt\n",
    "import seaborn as sns\n",
    "from scipy import stats"
   ]
  },
  {
   "cell_type": "code",
   "execution_count": 5,
   "metadata": {},
   "outputs": [],
   "source": [
    "def load_and_clean_data(filepath):\n",
    "    df = pd.read_csv(filepath)\n",
    "    df.dropna(subset=['Fatalities', 'Survivors'], inplace=True)\n",
    "    df.fillna({'Region': 'Unknown'}, inplace=True)\n",
    "    df['Date'] = pd.to_datetime(df['Date'], errors='coerce')\n",
    "    return df"
   ]
  },
  {
   "cell_type": "code",
   "execution_count": 6,
   "metadata": {},
   "outputs": [],
   "source": [
    "def perform_exploratory_analysis(df):\n",
    "    print(\"Basic Statistics:\")\n",
    "    print(df[['Fatalities', 'Survivors']].describe())\n",
    "    df = df.dropna(subset=['Date'])\n",
    "    df['Year'] = df['Date'].dt.year\n",
    "    yearly_crashes = df.groupby('Year').size()\n",
    "    plt.figure(figsize=(10, 5))\n",
    "    sns.lineplot(x=yearly_crashes.index, y=yearly_crashes.values)\n",
    "    plt.title(\"Number of Crashes Over Time\")\n",
    "    plt.xlabel(\"Year\")\n",
    "    plt.ylabel(\"Number of Crashes\")\n",
    "    plt.show()\n",
    "def perform_statistical_analysis(df):\n",
    "    print(\"Statistical Analysis:\")\n",
    "    print(\"Mean Fatalities:\", np.mean(df['Fatalities']))\n",
    "    print(\"Median Fatalities:\", np.median(df['Fatalities']))\n",
    "    print(\"Standard Deviation:\", np.std(df['Fatalities']))\n",
    "    df = df.dropna(subset=['Year'])\n",
    "    df['Decade'] = (df['Year'] // 10) * 10\n",
    "    fatalities_by_decade = df.groupby('Decade')['Fatalities'].mean()"
   ]
  },
  {
   "cell_type": "code",
   "execution_count": null,
   "metadata": {},
   "outputs": [
    {
     "ename": "IndentationError",
     "evalue": "unexpected indent (505408660.py, line 2)",
     "output_type": "error",
     "traceback": [
      "\u001b[1;36m  Cell \u001b[1;32mIn[7], line 2\u001b[1;36m\u001b[0m\n\u001b[1;33m    decade2 = df[df['Decade'] == 2000]['Fatalities'].dropna()\u001b[0m\n\u001b[1;37m    ^\u001b[0m\n\u001b[1;31mIndentationError\u001b[0m\u001b[1;31m:\u001b[0m unexpected indent\n"
     ]
    }
   ],
   "source": []
  }
 ],
 "metadata": {
  "kernelspec": {
   "display_name": "Python 3",
   "language": "python",
   "name": "python3"
  },
  "language_info": {
   "codemirror_mode": {
    "name": "ipython",
    "version": 3
   },
   "file_extension": ".py",
   "mimetype": "text/x-python",
   "name": "python",
   "nbconvert_exporter": "python",
   "pygments_lexer": "ipython3",
   "version": "3.13.2"
  }
 },
 "nbformat": 4,
 "nbformat_minor": 2
}
