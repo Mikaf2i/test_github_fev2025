{
 "cells": [
  {
   "cell_type": "code",
   "execution_count": null,
   "metadata": {},
   "outputs": [
    {
     "data": {
      "text/plain": [
       "array([0.38430692, 0.97646029, 0.26826937, 0.25703202, 0.10763372,\n",
       "       0.56123113, 0.30546234, 0.727878  , 0.83616934, 0.03942027,\n",
       "       0.5975311 , 0.69725273, 0.29734367, 0.14875955, 0.59018439,\n",
       "       0.73051469, 0.42671262, 0.22557952, 0.99220582, 0.21414819,\n",
       "       0.60444298, 0.87150626, 0.39686151, 0.48601068, 0.36164598,\n",
       "       0.16094578, 0.45796685, 0.19315015, 0.94695053, 0.29016894,\n",
       "       0.62168013, 0.99822383, 0.41655784, 0.18786427, 0.9483936 ,\n",
       "       0.46077365, 0.91611509, 0.95759694, 0.47137226, 0.72383453,\n",
       "       0.86723438, 0.28405754, 0.81937475, 0.44180901, 0.22823525,\n",
       "       0.37264643, 0.72989946, 0.73408961, 0.84687556, 0.58549464])"
      ]
     },
     "execution_count": 1,
     "metadata": {},
     "output_type": "execute_result"
    }
   ],
   "source": [
    "import numpy as np\n",
    "\n",
    "array = np.random.rand(50)\n",
    "array\n"
   ]
  },
  {
   "cell_type": "code",
   "execution_count": 2,
   "metadata": {},
   "outputs": [
    {
     "data": {
      "text/plain": [
       "np.float64(0.5353174822518066)"
      ]
     },
     "execution_count": 2,
     "metadata": {},
     "output_type": "execute_result"
    }
   ],
   "source": [
    "mean = np.mean(array)\n",
    "mean"
   ]
  },
  {
   "cell_type": "code",
   "execution_count": 3,
   "metadata": {},
   "outputs": [
    {
     "data": {
      "text/plain": [
       "np.float64(0.47869147017670294)"
      ]
     },
     "execution_count": 3,
     "metadata": {},
     "output_type": "execute_result"
    }
   ],
   "source": [
    "median = np.median(array)\n",
    "median"
   ]
  }
 ],
 "metadata": {
  "kernelspec": {
   "display_name": "Python 3",
   "language": "python",
   "name": "python3"
  },
  "language_info": {
   "codemirror_mode": {
    "name": "ipython",
    "version": 3
   },
   "file_extension": ".py",
   "mimetype": "text/x-python",
   "name": "python",
   "nbconvert_exporter": "python",
   "pygments_lexer": "ipython3",
   "version": "3.13.2"
  }
 },
 "nbformat": 4,
 "nbformat_minor": 2
}
