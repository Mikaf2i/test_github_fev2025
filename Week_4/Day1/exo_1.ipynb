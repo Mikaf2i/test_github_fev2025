{
 "cells": [
  {
   "cell_type": "markdown",
   "metadata": {},
   "source": [
    "Q1 : L'apprentissage profond automatise l'extraction de caractéristiques à l'aide de réseaux neuronaux complexes, contrairement à l'apprentissage automatique traditionnel qui requiert une ingénierie manuelle des caractéristiques.\n",
    "\n",
    "\n",
    "Q2 : Les réseaux de neurones artificiels (RNA) imitent le cerveau humain en utilisant une structure en couches de neurones interconnectés avec des connexions pondérées, des fonctions d'activation et un apprentissage par rétropropagation.\n",
    "\n",
    "Q4 :  Les défis de l'apprentissage profond, tels que le besoin de grandes quantités de données et de puissance de calcul, ainsi que les problèmes d'interprétabilité et de biais, peuvent être relevés par une combinaison de techniques avancées, de meilleures pratiques et de cadres éthiques rigoureux.\n",
    "\n",
    "Q5 : L'ingénierie des fonctionnalités est le processus de création de caractéristiques pertinentes à partir de données brutes pour améliorer les performances des modèles d'apprentissage automatique traditionnels, tandis que l'apprentissage profond automatise cette extraction grâce à ses réseaux neuronaux complexes.\n",
    "\n",
    "Q6 : Les couches cachées dans un modèle d'apprentissage profond servent à extraire et à transformer progressivement les caractéristiques complexes des données, permettant au modèle d'apprendre des représentations de plus en plus abstraites et sophistiquées.\n",
    "\n",
    "Q7 : Dans un réseau neuronal artificiel (RNA), une fonction d'activation détermine si un neurone doit s'activer et transmettre un signal, introduisant ainsi de la non-linéarité pour permettre au réseau de modéliser des relations complexes."
   ]
  }
 ],
 "metadata": {
  "kernelspec": {
   "display_name": "Python 3",
   "language": "python",
   "name": "python3"
  },
  "language_info": {
   "codemirror_mode": {
    "name": "ipython",
    "version": 3
   },
   "file_extension": ".py",
   "mimetype": "text/x-python",
   "name": "python",
   "nbconvert_exporter": "python",
   "pygments_lexer": "ipython3",
   "version": "3.13.2"
  }
 },
 "nbformat": 4,
 "nbformat_minor": 2
}
