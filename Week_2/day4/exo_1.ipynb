{
 "cells": [
  {
   "cell_type": "markdown",
   "metadata": {},
   "source": [
    "La visualisation des données permet de mieux comprendre l’information, détecter des tendances et faciliter la prise de décision. Le graphique linéaire est idéal pour analyser l’évolution d’une variable dans le temps, comparer des séries et identifier des tendances clés.\n"
   ]
  },
  {
   "cell_type": "code",
   "execution_count": null,
   "metadata": {},
   "outputs": [],
   "source": []
  }
 ],
 "metadata": {
  "language_info": {
   "name": "python"
  }
 },
 "nbformat": 4,
 "nbformat_minor": 2
}
