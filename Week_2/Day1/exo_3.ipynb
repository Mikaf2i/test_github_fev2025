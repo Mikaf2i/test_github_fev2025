{
 "cells": [
  {
   "cell_type": "code",
   "execution_count": 8,
   "metadata": {},
   "outputs": [
    {
     "name": "stdout",
     "output_type": "stream",
     "text": [
      "Qualitative columns: Index(['Period', 'Type of Days', 'Age Group', 'Activity', 'Sex'], dtype='object')\n",
      "Quantitative columns: Index(['index', 'Year', 'Avg hrs per day sleeping', 'Standard Error'], dtype='object')\n"
     ]
    }
   ],
   "source": [
    "import pandas as pd\n",
    "df = pd.read_csv('america.csv')\n",
    "\n",
    "def categorie (df):\n",
    "    qualitative_columns = df.select_dtypes(include=['object']).columns\n",
    "    quantitative_columns = df.select_dtypes(include=['float64', 'int64']).columns\n",
    "\n",
    "    print('Qualitative columns:', qualitative_columns)\n",
    "    print('Quantitative columns:', quantitative_columns)\n",
    "\n",
    "categorie (df)"
   ]
  }
 ],
 "metadata": {
  "kernelspec": {
   "display_name": "Python 3",
   "language": "python",
   "name": "python3"
  },
  "language_info": {
   "codemirror_mode": {
    "name": "ipython",
    "version": 3
   },
   "file_extension": ".py",
   "mimetype": "text/x-python",
   "name": "python",
   "nbconvert_exporter": "python",
   "pygments_lexer": "ipython3",
   "version": "3.13.2"
  }
 },
 "nbformat": 4,
 "nbformat_minor": 2
}
