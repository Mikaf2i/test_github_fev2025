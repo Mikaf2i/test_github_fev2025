{
 "cells": [
  {
   "cell_type": "code",
   "execution_count": 3,
   "metadata": {},
   "outputs": [
    {
     "name": "stdout",
     "output_type": "stream",
     "text": [
      "   Id  SepalLengthCm  SepalWidthCm  PetalLengthCm  PetalWidthCm      Species\n",
      "0   1            5.1           3.5            1.4           0.2  Iris-setosa\n",
      "1   2            4.9           3.0            1.4           0.2  Iris-setosa\n",
      "2   3            4.7           3.2            1.3           0.2  Iris-setosa\n",
      "3   4            4.6           3.1            1.5           0.2  Iris-setosa\n",
      "4   5            5.0           3.6            1.4           0.2  Iris-setosa\n",
      "Qualitative columns: Index(['Species'], dtype='object')\n",
      "Quantitative columns: Index(['Id', 'SepalLengthCm', 'SepalWidthCm', 'PetalLengthCm', 'PetalWidthCm'], dtype='object')\n",
      "Les colonnes qualitatives sont les colonnes qui contiennent des chaines de caractères, tandis que les colonnes quantitatives sont celles qui contiennent des nombres.\n"
     ]
    }
   ],
   "source": [
    "import pandas as pd\n",
    "\n",
    "df = pd.read_csv('Iris.csv')\n",
    "\n",
    "print (df.head())\n",
    "def categorie (df):\n",
    "    qualitative_columns = df.select_dtypes(include=['object']).columns\n",
    "    quantitative_columns = df.select_dtypes(include=['float64', 'int64']).columns\n",
    "\n",
    "    print('Qualitative columns:', qualitative_columns)\n",
    "    print('Quantitative columns:', quantitative_columns)\n",
    "\n",
    "categorie (df)\n",
    "\n",
    "explication = \"Les colonnes qualitatives sont les colonnes qui contiennent des chaines de caractères, tandis que les colonnes quantitatives sont celles qui contiennent des nombres.\"\n",
    "print (explication)\n"
   ]
  }
 ],
 "metadata": {
  "kernelspec": {
   "display_name": "Python 3",
   "language": "python",
   "name": "python3"
  },
  "language_info": {
   "codemirror_mode": {
    "name": "ipython",
    "version": 3
   },
   "file_extension": ".py",
   "mimetype": "text/x-python",
   "name": "python",
   "nbconvert_exporter": "python",
   "pygments_lexer": "ipython3",
   "version": "3.13.2"
  }
 },
 "nbformat": 4,
 "nbformat_minor": 2
}
