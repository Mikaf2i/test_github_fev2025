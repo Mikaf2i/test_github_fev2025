{
 "cells": [
  {
   "cell_type": "code",
   "execution_count": null,
   "metadata": {},
   "outputs": [
    {
     "name": "stdout",
     "output_type": "stream",
     "text": [
      "🔍 Aperçu des données :\n",
      "   index  Year  Period  Avg hrs per day sleeping  Standard Error Type of Days  \\\n",
      "0      0  2003  Annual                      8.57           0.018     All days   \n",
      "1      1  2004  Annual                      8.55           0.026     All days   \n",
      "2      2  2005  Annual                      8.62           0.023     All days   \n",
      "3      3  2006  Annual                      8.63           0.024     All days   \n",
      "4      4  2007  Annual                      8.57           0.024     All days   \n",
      "\n",
      "           Age Group  Activity   Sex  \n",
      "0  15 years and over  Sleeping  Both  \n",
      "1  15 years and over  Sleeping  Both  \n",
      "2  15 years and over  Sleeping  Both  \n",
      "3  15 years and over  Sleeping  Both  \n",
      "4  15 years and over  Sleeping  Both  \n",
      "\n",
      "📝 Informations sur les colonnes :\n",
      "<class 'pandas.core.frame.DataFrame'>\n",
      "RangeIndex: 945 entries, 0 to 944\n",
      "Data columns (total 9 columns):\n",
      " #   Column                    Non-Null Count  Dtype  \n",
      "---  ------                    --------------  -----  \n",
      " 0   index                     945 non-null    int64  \n",
      " 1   Year                      945 non-null    int64  \n",
      " 2   Period                    945 non-null    object \n",
      " 3   Avg hrs per day sleeping  945 non-null    float64\n",
      " 4   Standard Error            945 non-null    float64\n",
      " 5   Type of Days              945 non-null    object \n",
      " 6   Age Group                 945 non-null    object \n",
      " 7   Activity                  945 non-null    object \n",
      " 8   Sex                       945 non-null    object \n",
      "dtypes: float64(2), int64(2), object(5)\n",
      "memory usage: 66.6+ KB\n",
      "None\n",
      "\n",
      "📊 Statistiques de base :\n",
      "            index         Year  Avg hrs per day sleeping  Standard Error\n",
      "count  945.000000   945.000000                945.000000      945.000000\n",
      "mean   472.000000  2010.000000                  8.806868        0.086958\n",
      "std    272.942302     4.322782                  0.545001        0.034631\n",
      "min      0.000000  2003.000000                  7.720000        0.018000\n",
      "25%    236.000000  2006.000000                  8.360000        0.063000\n",
      "50%    472.000000  2010.000000                  8.810000        0.084000\n",
      "75%    708.000000  2014.000000                  9.190000        0.106000\n",
      "max    944.000000  2017.000000                 10.650000        0.228000\n"
     ]
    }
   ],
   "source": [
    "import pandas as pd\n",
    "\n",
    "\n",
    "file_path = \"america.csv\"\n",
    "df = pd.read_csv(file_path)\n",
    "\n",
    "\n",
    "print(\"🔍 Aperçu des données :\")\n",
    "print(df.head())\n",
    "\n",
    "\n",
    "print(\"\\n📝 Informations sur les colonnes :\")\n",
    "print(df.info())\n",
    "\n",
    "\n",
    "print(\"\\n📊 Statistiques de base :\")\n",
    "print(df.describe())\n"
   ]
  }
 ],
 "metadata": {
  "kernelspec": {
   "display_name": "Python 3",
   "language": "python",
   "name": "python3"
  },
  "language_info": {
   "codemirror_mode": {
    "name": "ipython",
    "version": 3
   },
   "file_extension": ".py",
   "mimetype": "text/x-python",
   "name": "python",
   "nbconvert_exporter": "python",
   "pygments_lexer": "ipython3",
   "version": "3.13.2"
  }
 },
 "nbformat": 4,
 "nbformat_minor": 2
}
