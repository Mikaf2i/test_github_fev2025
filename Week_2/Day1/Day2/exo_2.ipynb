{
 "cells": [
  {
   "cell_type": "markdown",
   "metadata": {},
   "source": [
    "Une série d'articles de blog sur les expériences de voyage.   =    LNP\n",
    "Enregistrements audio des appels du service client.  =  LNP\n",
    "Notes manuscrites issues d'une séance de brainstorming.    =  LNP\n",
    "Un tutoriel vidéo sur la cuisine.  =   LNP"
   ]
  }
 ],
 "metadata": {
  "language_info": {
   "name": "python"
  }
 },
 "nbformat": 4,
 "nbformat_minor": 2
}
