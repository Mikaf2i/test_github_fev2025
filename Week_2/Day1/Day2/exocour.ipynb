{
 "cells": [
  {
   "cell_type": "code",
   "execution_count": 2,
   "metadata": {},
   "outputs": [
    {
     "name": "stdout",
     "output_type": "stream",
     "text": [
      "  Product Name  Sale Amount Date of Sale  Customer Age\n",
      "0    Produit A          200   2025-01-15            25\n",
      "1    Produit B          150   2025-01-18            34\n",
      "2    Produit C          300   2025-01-20            45\n",
      "3    Produit D          250   2025-01-22            30\n",
      "4    Produit E          180   2025-01-25            22\n",
      "                  Name  Age\n",
      "0         Kevin Prince   60\n",
      "1        Kaitlyn Jones   28\n",
      "2        Donald Foster   55\n",
      "3          Gina Chavez   65\n",
      "4  Mr. Michael Ramirez   37\n"
     ]
    }
   ],
   "source": [
    "import pandas as pd\n",
    "import numpy as np\n",
    "from faker import Faker\n",
    "# Création d'un dictionnaire avec les données\n",
    "data = {\n",
    "    'Product Name': ['Produit A', 'Produit B', 'Produit C', 'Produit D', 'Produit E'],\n",
    "    'Sale Amount': [200, 150, 300, 250, 180],\n",
    "    'Date of Sale': ['2025-01-15', '2025-01-18', '2025-01-20', '2025-01-22', '2025-01-25'],\n",
    "    'Customer Age': [25, 34, 45, 30, 22]\n",
    "}\n",
    "\n",
    "# Création de la DataFrame\n",
    "df = pd.DataFrame(data)\n",
    "\n",
    "# Affichage de la DataFrame\n",
    "print(df)\n",
    "\n",
    "fake = Faker()\n",
    "\n",
    "# Generating synthetic names and ages\n",
    "data = [(fake.name(), np.random.randint(18, 70)) for _ in range(100)]\n",
    "\n",
    "# Converting to a DataFrame\n",
    "import pandas as pd\n",
    "df = pd.DataFrame(data, columns=['Name', 'Age'])\n",
    "print(df.head())"
   ]
  }
 ],
 "metadata": {
  "kernelspec": {
   "display_name": "Python 3",
   "language": "python",
   "name": "python3"
  },
  "language_info": {
   "codemirror_mode": {
    "name": "ipython",
    "version": 3
   },
   "file_extension": ".py",
   "mimetype": "text/x-python",
   "name": "python",
   "nbconvert_exporter": "python",
   "pygments_lexer": "ipython3",
   "version": "3.13.2"
  }
 },
 "nbformat": 4,
 "nbformat_minor": 2
}
