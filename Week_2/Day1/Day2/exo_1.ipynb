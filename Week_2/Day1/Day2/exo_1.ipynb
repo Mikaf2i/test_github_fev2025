{
 "cells": [
  {
   "cell_type": "markdown",
   "metadata": {},
   "source": [
    "Les rapports financiers d'une entreprise stockés dans un fichier Excel.    = structuré\n",
    "Photographies téléchargées sur une plateforme de médias sociaux.   =  non structuré\n",
    "Une collection d’articles de presse sur un site Web.  = non structuré\n",
    "Données d'inventaire dans une base de données relationnelle.   = structuré\n",
    "Entretiens enregistrés à partir d’une étude de marché.  non structuré\n"
   ]
  }
 ],
 "metadata": {
  "language_info": {
   "name": "python"
  }
 },
 "nbformat": 4,
 "nbformat_minor": 2
}
