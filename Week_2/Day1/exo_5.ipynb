{
 "cells": [
  {
   "cell_type": "code",
   "execution_count": 4,
   "metadata": {},
   "outputs": [
    {
     "name": "stdout",
     "output_type": "stream",
     "text": [
      "Aperçu du dataset :\n",
      "   Id  SepalLengthCm  SepalWidthCm  PetalLengthCm  PetalWidthCm      Species\n",
      "0   1            5.1           3.5            1.4           0.2  Iris-setosa\n",
      "1   2            4.9           3.0            1.4           0.2  Iris-setosa\n",
      "2   3            4.7           3.2            1.3           0.2  Iris-setosa\n",
      "3   4            4.6           3.1            1.5           0.2  Iris-setosa\n",
      "4   5            5.0           3.6            1.4           0.2  Iris-setosa\n",
      "\n",
      "📊 Statistiques de la colonne SepalLengthCm :\n",
      "Moyenne : 5.843333333333334\n",
      "Médiane : 5.8\n",
      "Mode : 5.0\n"
     ]
    }
   ],
   "source": [
    "import pandas as pd\n",
    "\n",
    "# Charger le fichier CSV\n",
    "\n",
    "df = pd.read_csv('Iris.csv')\n",
    "\n",
    "# Afficher un aperçu des données\n",
    "print(\"Aperçu du dataset :\")\n",
    "print(df.head())\n",
    "\n",
    "# Choisir une colonne quantitative (exemple : 'SepalLengthCm')\n",
    "col = 'SepalLengthCm'\n",
    "\n",
    "# Calcul de la moyenne, médiane et mode\n",
    "mean_value = df[col].mean()\n",
    "median_value = df[col].median()\n",
    "mode_value = df[col].mode()[0]  # mode() retourne une série, on prend la première valeur\n",
    "\n",
    "print(f\"\\n📊 Statistiques de la colonne {col} :\")\n",
    "print(f\"Moyenne : {mean_value}\")\n",
    "print(f\"Médiane : {median_value}\")\n",
    "print(f\"Mode : {mode_value}\")\n",
    "\n",
    "# Création d'un histogramme pour visualiser la distribution des valeurs\n",
    "\n"
   ]
  }
 ],
 "metadata": {
  "kernelspec": {
   "display_name": "Python 3",
   "language": "python",
   "name": "python3"
  },
  "language_info": {
   "codemirror_mode": {
    "name": "ipython",
    "version": 3
   },
   "file_extension": ".py",
   "mimetype": "text/x-python",
   "name": "python",
   "nbconvert_exporter": "python",
   "pygments_lexer": "ipython3",
   "version": "3.13.2"
  }
 },
 "nbformat": 4,
 "nbformat_minor": 2
}
